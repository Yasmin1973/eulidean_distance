{
  "cells": [
    {
      "cell_type": "markdown",
      "source": [
        "### اتصال گوگل درایو به کولب"
      ],
      "metadata": {
        "id": "bzB5gD96PZBe"
      },
      "id": "bzB5gD96PZBe"
    },
    {
      "cell_type": "code",
      "source": [
        "from google.colab import drive\n",
        "drive.mount('/content/drive')"
      ],
      "metadata": {
        "colab": {
          "base_uri": "https://localhost:8080/"
        },
        "id": "r_lIoESjS3WQ",
        "outputId": "d9051bd7-8085-4e9d-9f66-9f9df1211a4a"
      },
      "id": "r_lIoESjS3WQ",
      "execution_count": null,
      "outputs": [
        {
          "output_type": "stream",
          "name": "stdout",
          "text": [
            "Mounted at /content/drive\n"
          ]
        }
      ]
    },
    {
      "cell_type": "markdown",
      "source": [
        "### ایمپورت کردن کتابخانه پانداز"
      ],
      "metadata": {
        "id": "_34xg4KAPm9y"
      },
      "id": "_34xg4KAPm9y"
    },
    {
      "cell_type": "code",
      "execution_count": null,
      "id": "0db34541",
      "metadata": {
        "id": "0db34541"
      },
      "outputs": [],
      "source": [
        "import pandas as pd"
      ]
    },
    {
      "cell_type": "markdown",
      "source": [
        "### خواندن دیتا از گوگل درایو"
      ],
      "metadata": {
        "id": "oLmdW6gBQZNL"
      },
      "id": "oLmdW6gBQZNL"
    },
    {
      "cell_type": "code",
      "execution_count": null,
      "id": "3ac6c339",
      "metadata": {
        "id": "3ac6c339"
      },
      "outputs": [],
      "source": [
        "df = pd.read_csv('/content/drive/MyDrive/Colab Recourse/Rice_Cammeo_Osmancik.csv')"
      ]
    },
    {
      "cell_type": "code",
      "source": [
        "df.head()"
      ],
      "metadata": {
        "id": "hQKj8-opTrgL",
        "colab": {
          "base_uri": "https://localhost:8080/",
          "height": 206
        },
        "outputId": "0df844af-25cf-4d4a-f3a3-96bca74fb4ba"
      },
      "id": "hQKj8-opTrgL",
      "execution_count": null,
      "outputs": [
        {
          "output_type": "execute_result",
          "data": {
            "text/plain": [
              "    Area   Perimeter  Major_Axis_Length  Minor_Axis_Length  Eccentricity  \\\n",
              "0  15231  525.578979         229.749878          85.093788      0.928882   \n",
              "1  14656  494.311005         206.020065          91.730972      0.895405   \n",
              "2  14634  501.122009         214.106781          87.768288      0.912118   \n",
              "3  13176  458.342987         193.337387          87.448395      0.891861   \n",
              "4  14688  507.166992         211.743378          89.312454      0.906691   \n",
              "\n",
              "   Convex_Area    Extent   Class  \n",
              "0        15617  0.572896  Cammeo  \n",
              "1        15072  0.615436  Cammeo  \n",
              "2        14954  0.693259  Cammeo  \n",
              "3        13368  0.640669  Cammeo  \n",
              "4        15262  0.646024  Cammeo  "
            ],
            "text/html": [
              "\n",
              "  <div id=\"df-a5322efc-ba58-43e8-96eb-90c4391f3b54\">\n",
              "    <div class=\"colab-df-container\">\n",
              "      <div>\n",
              "<style scoped>\n",
              "    .dataframe tbody tr th:only-of-type {\n",
              "        vertical-align: middle;\n",
              "    }\n",
              "\n",
              "    .dataframe tbody tr th {\n",
              "        vertical-align: top;\n",
              "    }\n",
              "\n",
              "    .dataframe thead th {\n",
              "        text-align: right;\n",
              "    }\n",
              "</style>\n",
              "<table border=\"1\" class=\"dataframe\">\n",
              "  <thead>\n",
              "    <tr style=\"text-align: right;\">\n",
              "      <th></th>\n",
              "      <th>Area</th>\n",
              "      <th>Perimeter</th>\n",
              "      <th>Major_Axis_Length</th>\n",
              "      <th>Minor_Axis_Length</th>\n",
              "      <th>Eccentricity</th>\n",
              "      <th>Convex_Area</th>\n",
              "      <th>Extent</th>\n",
              "      <th>Class</th>\n",
              "    </tr>\n",
              "  </thead>\n",
              "  <tbody>\n",
              "    <tr>\n",
              "      <th>0</th>\n",
              "      <td>15231</td>\n",
              "      <td>525.578979</td>\n",
              "      <td>229.749878</td>\n",
              "      <td>85.093788</td>\n",
              "      <td>0.928882</td>\n",
              "      <td>15617</td>\n",
              "      <td>0.572896</td>\n",
              "      <td>Cammeo</td>\n",
              "    </tr>\n",
              "    <tr>\n",
              "      <th>1</th>\n",
              "      <td>14656</td>\n",
              "      <td>494.311005</td>\n",
              "      <td>206.020065</td>\n",
              "      <td>91.730972</td>\n",
              "      <td>0.895405</td>\n",
              "      <td>15072</td>\n",
              "      <td>0.615436</td>\n",
              "      <td>Cammeo</td>\n",
              "    </tr>\n",
              "    <tr>\n",
              "      <th>2</th>\n",
              "      <td>14634</td>\n",
              "      <td>501.122009</td>\n",
              "      <td>214.106781</td>\n",
              "      <td>87.768288</td>\n",
              "      <td>0.912118</td>\n",
              "      <td>14954</td>\n",
              "      <td>0.693259</td>\n",
              "      <td>Cammeo</td>\n",
              "    </tr>\n",
              "    <tr>\n",
              "      <th>3</th>\n",
              "      <td>13176</td>\n",
              "      <td>458.342987</td>\n",
              "      <td>193.337387</td>\n",
              "      <td>87.448395</td>\n",
              "      <td>0.891861</td>\n",
              "      <td>13368</td>\n",
              "      <td>0.640669</td>\n",
              "      <td>Cammeo</td>\n",
              "    </tr>\n",
              "    <tr>\n",
              "      <th>4</th>\n",
              "      <td>14688</td>\n",
              "      <td>507.166992</td>\n",
              "      <td>211.743378</td>\n",
              "      <td>89.312454</td>\n",
              "      <td>0.906691</td>\n",
              "      <td>15262</td>\n",
              "      <td>0.646024</td>\n",
              "      <td>Cammeo</td>\n",
              "    </tr>\n",
              "  </tbody>\n",
              "</table>\n",
              "</div>\n",
              "      <button class=\"colab-df-convert\" onclick=\"convertToInteractive('df-a5322efc-ba58-43e8-96eb-90c4391f3b54')\"\n",
              "              title=\"Convert this dataframe to an interactive table.\"\n",
              "              style=\"display:none;\">\n",
              "        \n",
              "  <svg xmlns=\"http://www.w3.org/2000/svg\" height=\"24px\"viewBox=\"0 0 24 24\"\n",
              "       width=\"24px\">\n",
              "    <path d=\"M0 0h24v24H0V0z\" fill=\"none\"/>\n",
              "    <path d=\"M18.56 5.44l.94 2.06.94-2.06 2.06-.94-2.06-.94-.94-2.06-.94 2.06-2.06.94zm-11 1L8.5 8.5l.94-2.06 2.06-.94-2.06-.94L8.5 2.5l-.94 2.06-2.06.94zm10 10l.94 2.06.94-2.06 2.06-.94-2.06-.94-.94-2.06-.94 2.06-2.06.94z\"/><path d=\"M17.41 7.96l-1.37-1.37c-.4-.4-.92-.59-1.43-.59-.52 0-1.04.2-1.43.59L10.3 9.45l-7.72 7.72c-.78.78-.78 2.05 0 2.83L4 21.41c.39.39.9.59 1.41.59.51 0 1.02-.2 1.41-.59l7.78-7.78 2.81-2.81c.8-.78.8-2.07 0-2.86zM5.41 20L4 18.59l7.72-7.72 1.47 1.35L5.41 20z\"/>\n",
              "  </svg>\n",
              "      </button>\n",
              "      \n",
              "  <style>\n",
              "    .colab-df-container {\n",
              "      display:flex;\n",
              "      flex-wrap:wrap;\n",
              "      gap: 12px;\n",
              "    }\n",
              "\n",
              "    .colab-df-convert {\n",
              "      background-color: #E8F0FE;\n",
              "      border: none;\n",
              "      border-radius: 50%;\n",
              "      cursor: pointer;\n",
              "      display: none;\n",
              "      fill: #1967D2;\n",
              "      height: 32px;\n",
              "      padding: 0 0 0 0;\n",
              "      width: 32px;\n",
              "    }\n",
              "\n",
              "    .colab-df-convert:hover {\n",
              "      background-color: #E2EBFA;\n",
              "      box-shadow: 0px 1px 2px rgba(60, 64, 67, 0.3), 0px 1px 3px 1px rgba(60, 64, 67, 0.15);\n",
              "      fill: #174EA6;\n",
              "    }\n",
              "\n",
              "    [theme=dark] .colab-df-convert {\n",
              "      background-color: #3B4455;\n",
              "      fill: #D2E3FC;\n",
              "    }\n",
              "\n",
              "    [theme=dark] .colab-df-convert:hover {\n",
              "      background-color: #434B5C;\n",
              "      box-shadow: 0px 1px 3px 1px rgba(0, 0, 0, 0.15);\n",
              "      filter: drop-shadow(0px 1px 2px rgba(0, 0, 0, 0.3));\n",
              "      fill: #FFFFFF;\n",
              "    }\n",
              "  </style>\n",
              "\n",
              "      <script>\n",
              "        const buttonEl =\n",
              "          document.querySelector('#df-a5322efc-ba58-43e8-96eb-90c4391f3b54 button.colab-df-convert');\n",
              "        buttonEl.style.display =\n",
              "          google.colab.kernel.accessAllowed ? 'block' : 'none';\n",
              "\n",
              "        async function convertToInteractive(key) {\n",
              "          const element = document.querySelector('#df-a5322efc-ba58-43e8-96eb-90c4391f3b54');\n",
              "          const dataTable =\n",
              "            await google.colab.kernel.invokeFunction('convertToInteractive',\n",
              "                                                     [key], {});\n",
              "          if (!dataTable) return;\n",
              "\n",
              "          const docLinkHtml = 'Like what you see? Visit the ' +\n",
              "            '<a target=\"_blank\" href=https://colab.research.google.com/notebooks/data_table.ipynb>data table notebook</a>'\n",
              "            + ' to learn more about interactive tables.';\n",
              "          element.innerHTML = '';\n",
              "          dataTable['output_type'] = 'display_data';\n",
              "          await google.colab.output.renderOutput(dataTable, element);\n",
              "          const docLink = document.createElement('div');\n",
              "          docLink.innerHTML = docLinkHtml;\n",
              "          element.appendChild(docLink);\n",
              "        }\n",
              "      </script>\n",
              "    </div>\n",
              "  </div>\n",
              "  "
            ]
          },
          "metadata": {},
          "execution_count": 4
        }
      ]
    },
    {
      "cell_type": "markdown",
      "source": [
        "### مشاهده اطلاعات دیتا"
      ],
      "metadata": {
        "id": "Vp68_f1BQ-ir"
      },
      "id": "Vp68_f1BQ-ir"
    },
    {
      "cell_type": "code",
      "execution_count": null,
      "id": "1fc77581",
      "metadata": {
        "scrolled": true,
        "id": "1fc77581",
        "colab": {
          "base_uri": "https://localhost:8080/"
        },
        "outputId": "9196e677-c2db-4c5d-fe3b-d2d8073856eb"
      },
      "outputs": [
        {
          "output_type": "stream",
          "name": "stdout",
          "text": [
            "<class 'pandas.core.frame.DataFrame'>\n",
            "RangeIndex: 3810 entries, 0 to 3809\n",
            "Data columns (total 8 columns):\n",
            " #   Column             Non-Null Count  Dtype  \n",
            "---  ------             --------------  -----  \n",
            " 0   Area               3810 non-null   int64  \n",
            " 1   Perimeter          3810 non-null   float64\n",
            " 2   Major_Axis_Length  3810 non-null   float64\n",
            " 3   Minor_Axis_Length  3810 non-null   float64\n",
            " 4   Eccentricity       3810 non-null   float64\n",
            " 5   Convex_Area        3810 non-null   int64  \n",
            " 6   Extent             3810 non-null   float64\n",
            " 7   Class              3810 non-null   object \n",
            "dtypes: float64(5), int64(2), object(1)\n",
            "memory usage: 238.2+ KB\n"
          ]
        }
      ],
      "source": [
        "df.info()"
      ]
    },
    {
      "cell_type": "markdown",
      "source": [
        "### تعداد دیتای از دست رفته"
      ],
      "metadata": {
        "id": "8pVQFpz-ReZ2"
      },
      "id": "8pVQFpz-ReZ2"
    },
    {
      "cell_type": "code",
      "execution_count": null,
      "id": "7d3faaf6",
      "metadata": {
        "id": "7d3faaf6",
        "colab": {
          "base_uri": "https://localhost:8080/"
        },
        "outputId": "e81bdcc9-91b5-4247-b238-c473b5ff43a2"
      },
      "outputs": [
        {
          "output_type": "execute_result",
          "data": {
            "text/plain": [
              "Area                 0\n",
              "Perimeter            0\n",
              "Major_Axis_Length    0\n",
              "Minor_Axis_Length    0\n",
              "Eccentricity         0\n",
              "Convex_Area          0\n",
              "Extent               0\n",
              "Class                0\n",
              "dtype: int64"
            ]
          },
          "metadata": {},
          "execution_count": 6
        }
      ],
      "source": [
        "df.isnull().sum()"
      ]
    },
    {
      "cell_type": "markdown",
      "source": [
        "### توصیف دیتا"
      ],
      "metadata": {
        "id": "_NU7QEQqRong"
      },
      "id": "_NU7QEQqRong"
    },
    {
      "cell_type": "code",
      "execution_count": null,
      "id": "e2491697",
      "metadata": {
        "id": "e2491697",
        "colab": {
          "base_uri": "https://localhost:8080/",
          "height": 300
        },
        "outputId": "6cbf5148-d337-4253-b465-f82db36c6b07"
      },
      "outputs": [
        {
          "output_type": "execute_result",
          "data": {
            "text/plain": [
              "               Area    Perimeter  Major_Axis_Length  Minor_Axis_Length  \\\n",
              "count   3810.000000  3810.000000        3810.000000        3810.000000   \n",
              "mean   12667.727559   454.239180         188.776222          86.313750   \n",
              "std     1732.367706    35.597081          17.448679           5.729817   \n",
              "min     7551.000000   359.100006         145.264465          59.532406   \n",
              "25%    11370.500000   426.144752         174.353855          82.731695   \n",
              "50%    12421.500000   448.852493         185.810059          86.434647   \n",
              "75%    13950.000000   483.683746         203.550438          90.143677   \n",
              "max    18913.000000   548.445984         239.010498         107.542450   \n",
              "\n",
              "       Eccentricity   Convex_Area       Extent  \n",
              "count   3810.000000   3810.000000  3810.000000  \n",
              "mean       0.886871  12952.496850     0.661934  \n",
              "std        0.020818   1776.972042     0.077239  \n",
              "min        0.777233   7723.000000     0.497413  \n",
              "25%        0.872402  11626.250000     0.598862  \n",
              "50%        0.889050  12706.500000     0.645361  \n",
              "75%        0.902588  14284.000000     0.726562  \n",
              "max        0.948007  19099.000000     0.861050  "
            ],
            "text/html": [
              "\n",
              "  <div id=\"df-ac639867-154f-4b60-80d3-1936a3d79b19\">\n",
              "    <div class=\"colab-df-container\">\n",
              "      <div>\n",
              "<style scoped>\n",
              "    .dataframe tbody tr th:only-of-type {\n",
              "        vertical-align: middle;\n",
              "    }\n",
              "\n",
              "    .dataframe tbody tr th {\n",
              "        vertical-align: top;\n",
              "    }\n",
              "\n",
              "    .dataframe thead th {\n",
              "        text-align: right;\n",
              "    }\n",
              "</style>\n",
              "<table border=\"1\" class=\"dataframe\">\n",
              "  <thead>\n",
              "    <tr style=\"text-align: right;\">\n",
              "      <th></th>\n",
              "      <th>Area</th>\n",
              "      <th>Perimeter</th>\n",
              "      <th>Major_Axis_Length</th>\n",
              "      <th>Minor_Axis_Length</th>\n",
              "      <th>Eccentricity</th>\n",
              "      <th>Convex_Area</th>\n",
              "      <th>Extent</th>\n",
              "    </tr>\n",
              "  </thead>\n",
              "  <tbody>\n",
              "    <tr>\n",
              "      <th>count</th>\n",
              "      <td>3810.000000</td>\n",
              "      <td>3810.000000</td>\n",
              "      <td>3810.000000</td>\n",
              "      <td>3810.000000</td>\n",
              "      <td>3810.000000</td>\n",
              "      <td>3810.000000</td>\n",
              "      <td>3810.000000</td>\n",
              "    </tr>\n",
              "    <tr>\n",
              "      <th>mean</th>\n",
              "      <td>12667.727559</td>\n",
              "      <td>454.239180</td>\n",
              "      <td>188.776222</td>\n",
              "      <td>86.313750</td>\n",
              "      <td>0.886871</td>\n",
              "      <td>12952.496850</td>\n",
              "      <td>0.661934</td>\n",
              "    </tr>\n",
              "    <tr>\n",
              "      <th>std</th>\n",
              "      <td>1732.367706</td>\n",
              "      <td>35.597081</td>\n",
              "      <td>17.448679</td>\n",
              "      <td>5.729817</td>\n",
              "      <td>0.020818</td>\n",
              "      <td>1776.972042</td>\n",
              "      <td>0.077239</td>\n",
              "    </tr>\n",
              "    <tr>\n",
              "      <th>min</th>\n",
              "      <td>7551.000000</td>\n",
              "      <td>359.100006</td>\n",
              "      <td>145.264465</td>\n",
              "      <td>59.532406</td>\n",
              "      <td>0.777233</td>\n",
              "      <td>7723.000000</td>\n",
              "      <td>0.497413</td>\n",
              "    </tr>\n",
              "    <tr>\n",
              "      <th>25%</th>\n",
              "      <td>11370.500000</td>\n",
              "      <td>426.144752</td>\n",
              "      <td>174.353855</td>\n",
              "      <td>82.731695</td>\n",
              "      <td>0.872402</td>\n",
              "      <td>11626.250000</td>\n",
              "      <td>0.598862</td>\n",
              "    </tr>\n",
              "    <tr>\n",
              "      <th>50%</th>\n",
              "      <td>12421.500000</td>\n",
              "      <td>448.852493</td>\n",
              "      <td>185.810059</td>\n",
              "      <td>86.434647</td>\n",
              "      <td>0.889050</td>\n",
              "      <td>12706.500000</td>\n",
              "      <td>0.645361</td>\n",
              "    </tr>\n",
              "    <tr>\n",
              "      <th>75%</th>\n",
              "      <td>13950.000000</td>\n",
              "      <td>483.683746</td>\n",
              "      <td>203.550438</td>\n",
              "      <td>90.143677</td>\n",
              "      <td>0.902588</td>\n",
              "      <td>14284.000000</td>\n",
              "      <td>0.726562</td>\n",
              "    </tr>\n",
              "    <tr>\n",
              "      <th>max</th>\n",
              "      <td>18913.000000</td>\n",
              "      <td>548.445984</td>\n",
              "      <td>239.010498</td>\n",
              "      <td>107.542450</td>\n",
              "      <td>0.948007</td>\n",
              "      <td>19099.000000</td>\n",
              "      <td>0.861050</td>\n",
              "    </tr>\n",
              "  </tbody>\n",
              "</table>\n",
              "</div>\n",
              "      <button class=\"colab-df-convert\" onclick=\"convertToInteractive('df-ac639867-154f-4b60-80d3-1936a3d79b19')\"\n",
              "              title=\"Convert this dataframe to an interactive table.\"\n",
              "              style=\"display:none;\">\n",
              "        \n",
              "  <svg xmlns=\"http://www.w3.org/2000/svg\" height=\"24px\"viewBox=\"0 0 24 24\"\n",
              "       width=\"24px\">\n",
              "    <path d=\"M0 0h24v24H0V0z\" fill=\"none\"/>\n",
              "    <path d=\"M18.56 5.44l.94 2.06.94-2.06 2.06-.94-2.06-.94-.94-2.06-.94 2.06-2.06.94zm-11 1L8.5 8.5l.94-2.06 2.06-.94-2.06-.94L8.5 2.5l-.94 2.06-2.06.94zm10 10l.94 2.06.94-2.06 2.06-.94-2.06-.94-.94-2.06-.94 2.06-2.06.94z\"/><path d=\"M17.41 7.96l-1.37-1.37c-.4-.4-.92-.59-1.43-.59-.52 0-1.04.2-1.43.59L10.3 9.45l-7.72 7.72c-.78.78-.78 2.05 0 2.83L4 21.41c.39.39.9.59 1.41.59.51 0 1.02-.2 1.41-.59l7.78-7.78 2.81-2.81c.8-.78.8-2.07 0-2.86zM5.41 20L4 18.59l7.72-7.72 1.47 1.35L5.41 20z\"/>\n",
              "  </svg>\n",
              "      </button>\n",
              "      \n",
              "  <style>\n",
              "    .colab-df-container {\n",
              "      display:flex;\n",
              "      flex-wrap:wrap;\n",
              "      gap: 12px;\n",
              "    }\n",
              "\n",
              "    .colab-df-convert {\n",
              "      background-color: #E8F0FE;\n",
              "      border: none;\n",
              "      border-radius: 50%;\n",
              "      cursor: pointer;\n",
              "      display: none;\n",
              "      fill: #1967D2;\n",
              "      height: 32px;\n",
              "      padding: 0 0 0 0;\n",
              "      width: 32px;\n",
              "    }\n",
              "\n",
              "    .colab-df-convert:hover {\n",
              "      background-color: #E2EBFA;\n",
              "      box-shadow: 0px 1px 2px rgba(60, 64, 67, 0.3), 0px 1px 3px 1px rgba(60, 64, 67, 0.15);\n",
              "      fill: #174EA6;\n",
              "    }\n",
              "\n",
              "    [theme=dark] .colab-df-convert {\n",
              "      background-color: #3B4455;\n",
              "      fill: #D2E3FC;\n",
              "    }\n",
              "\n",
              "    [theme=dark] .colab-df-convert:hover {\n",
              "      background-color: #434B5C;\n",
              "      box-shadow: 0px 1px 3px 1px rgba(0, 0, 0, 0.15);\n",
              "      filter: drop-shadow(0px 1px 2px rgba(0, 0, 0, 0.3));\n",
              "      fill: #FFFFFF;\n",
              "    }\n",
              "  </style>\n",
              "\n",
              "      <script>\n",
              "        const buttonEl =\n",
              "          document.querySelector('#df-ac639867-154f-4b60-80d3-1936a3d79b19 button.colab-df-convert');\n",
              "        buttonEl.style.display =\n",
              "          google.colab.kernel.accessAllowed ? 'block' : 'none';\n",
              "\n",
              "        async function convertToInteractive(key) {\n",
              "          const element = document.querySelector('#df-ac639867-154f-4b60-80d3-1936a3d79b19');\n",
              "          const dataTable =\n",
              "            await google.colab.kernel.invokeFunction('convertToInteractive',\n",
              "                                                     [key], {});\n",
              "          if (!dataTable) return;\n",
              "\n",
              "          const docLinkHtml = 'Like what you see? Visit the ' +\n",
              "            '<a target=\"_blank\" href=https://colab.research.google.com/notebooks/data_table.ipynb>data table notebook</a>'\n",
              "            + ' to learn more about interactive tables.';\n",
              "          element.innerHTML = '';\n",
              "          dataTable['output_type'] = 'display_data';\n",
              "          await google.colab.output.renderOutput(dataTable, element);\n",
              "          const docLink = document.createElement('div');\n",
              "          docLink.innerHTML = docLinkHtml;\n",
              "          element.appendChild(docLink);\n",
              "        }\n",
              "      </script>\n",
              "    </div>\n",
              "  </div>\n",
              "  "
            ]
          },
          "metadata": {},
          "execution_count": 7
        }
      ],
      "source": [
        "df.describe()"
      ]
    },
    {
      "cell_type": "code",
      "source": [
        "import matplotlib.pyplot as plt"
      ],
      "metadata": {
        "id": "9XnMdpQw5k0G"
      },
      "id": "9XnMdpQw5k0G",
      "execution_count": null,
      "outputs": []
    },
    {
      "cell_type": "code",
      "source": [
        "plt.bar(df['Area'].unique(),df.Area.value_counts())"
      ],
      "metadata": {
        "colab": {
          "base_uri": "https://localhost:8080/",
          "height": 448
        },
        "id": "F2zmEFbXYhwp",
        "outputId": "da7cd419-8f64-499b-90e8-f94022cb9693"
      },
      "id": "F2zmEFbXYhwp",
      "execution_count": null,
      "outputs": [
        {
          "output_type": "execute_result",
          "data": {
            "text/plain": [
              "<BarContainer object of 2828 artists>"
            ]
          },
          "metadata": {},
          "execution_count": 9
        },
        {
          "output_type": "display_data",
          "data": {
            "text/plain": [
              "<Figure size 640x480 with 1 Axes>"
            ],
            "image/png": "[encoded data removed]"
          },
          "metadata": {}
        }
      ]
    },
    {
      "cell_type": "markdown",
      "source": [
        "### حداقل مقادیر"
      ],
      "metadata": {
        "id": "6NTZyY-uRu5X"
      },
      "id": "6NTZyY-uRu5X"
    },
    {
      "cell_type": "code",
      "source": [
        "df.min()"
      ],
      "metadata": {
        "id": "uU8fgT_BWM79",
        "colab": {
          "base_uri": "https://localhost:8080/"
        },
        "outputId": "41b94d0b-bf98-4e0e-8843-cf1ee6b56dd5"
      },
      "id": "uU8fgT_BWM79",
      "execution_count": null,
      "outputs": [
        {
          "output_type": "execute_result",
          "data": {
            "text/plain": [
              "Area                       7551\n",
              "Perimeter            359.100006\n",
              "Major_Axis_Length    145.264465\n",
              "Minor_Axis_Length     59.532406\n",
              "Eccentricity           0.777233\n",
              "Convex_Area                7723\n",
              "Extent                 0.497413\n",
              "Class                    Cammeo\n",
              "dtype: object"
            ]
          },
          "metadata": {},
          "execution_count": 10
        }
      ]
    },
    {
      "cell_type": "markdown",
      "source": [
        "### حداکثر مقادیر "
      ],
      "metadata": {
        "id": "PuVT6OmoR8T0"
      },
      "id": "PuVT6OmoR8T0"
    },
    {
      "cell_type": "code",
      "source": [
        "df.max()"
      ],
      "metadata": {
        "id": "zz4GqnkrWRnD",
        "colab": {
          "base_uri": "https://localhost:8080/"
        },
        "outputId": "c127226c-fff7-4b3e-c9ff-dc4e65780803"
      },
      "id": "zz4GqnkrWRnD",
      "execution_count": null,
      "outputs": [
        {
          "output_type": "execute_result",
          "data": {
            "text/plain": [
              "Area                      18913\n",
              "Perimeter            548.445984\n",
              "Major_Axis_Length    239.010498\n",
              "Minor_Axis_Length     107.54245\n",
              "Eccentricity           0.948007\n",
              "Convex_Area               19099\n",
              "Extent                  0.86105\n",
              "Class                  Osmancik\n",
              "dtype: object"
            ]
          },
          "metadata": {},
          "execution_count": 11
        }
      ]
    },
    {
      "cell_type": "markdown",
      "source": [
        "### میانگین"
      ],
      "metadata": {
        "id": "Xy7aDLUOSEuy"
      },
      "id": "Xy7aDLUOSEuy"
    },
    {
      "cell_type": "code",
      "source": [
        "mean = df.mean()\n",
        "mean"
      ],
      "metadata": {
        "id": "qu0EjiyfUlK0",
        "colab": {
          "base_uri": "https://localhost:8080/"
        },
        "outputId": "94832e83-4234-490b-d14d-e7a9d866f791"
      },
      "id": "qu0EjiyfUlK0",
      "execution_count": null,
      "outputs": [
        {
          "output_type": "stream",
          "name": "stderr",
          "text": [
            "<ipython-input-12-a154354c8f91>:1: FutureWarning: The default value of numeric_only in DataFrame.mean is deprecated. In a future version, it will default to False. In addition, specifying 'numeric_only=None' is deprecated. Select only valid columns or specify the value of numeric_only to silence this warning.\n",
            "  mean = df.mean()\n"
          ]
        },
        {
          "output_type": "execute_result",
          "data": {
            "text/plain": [
              "Area                 12667.727559\n",
              "Perimeter              454.239180\n",
              "Major_Axis_Length      188.776222\n",
              "Minor_Axis_Length       86.313750\n",
              "Eccentricity             0.886871\n",
              "Convex_Area          12952.496850\n",
              "Extent                   0.661934\n",
              "dtype: float64"
            ]
          },
          "metadata": {},
          "execution_count": 12
        }
      ]
    },
    {
      "cell_type": "markdown",
      "source": [
        "### انحراف معیار"
      ],
      "metadata": {
        "id": "-rOvhMgMSMTa"
      },
      "id": "-rOvhMgMSMTa"
    },
    {
      "cell_type": "code",
      "source": [
        "df.std()"
      ],
      "metadata": {
        "id": "P1JcV2B_UojG",
        "colab": {
          "base_uri": "https://localhost:8080/"
        },
        "outputId": "8fda94c5-f67e-438f-c9cf-49342895e619"
      },
      "id": "P1JcV2B_UojG",
      "execution_count": null,
      "outputs": [
        {
          "output_type": "stream",
          "name": "stderr",
          "text": [
            "<ipython-input-13-ce97bb7eaef8>:1: FutureWarning: The default value of numeric_only in DataFrame.std is deprecated. In a future version, it will default to False. In addition, specifying 'numeric_only=None' is deprecated. Select only valid columns or specify the value of numeric_only to silence this warning.\n",
            "  df.std()\n"
          ]
        },
        {
          "output_type": "execute_result",
          "data": {
            "text/plain": [
              "Area                 1732.367706\n",
              "Perimeter              35.597081\n",
              "Major_Axis_Length      17.448679\n",
              "Minor_Axis_Length       5.729817\n",
              "Eccentricity            0.020818\n",
              "Convex_Area          1776.972042\n",
              "Extent                  0.077239\n",
              "dtype: float64"
            ]
          },
          "metadata": {},
          "execution_count": 13
        }
      ]
    },
    {
      "cell_type": "markdown",
      "source": [
        "### جداسازی یک ستون از دیتا"
      ],
      "metadata": {
        "id": "IpdtAxHhSaxM"
      },
      "id": "IpdtAxHhSaxM"
    },
    {
      "cell_type": "code",
      "source": [
        "rice_df = df.drop(['Class'],axis=1)\n",
        "rice_df[0:10]"
      ],
      "metadata": {
        "id": "S9YxN4pCV1ob",
        "colab": {
          "base_uri": "https://localhost:8080/",
          "height": 363
        },
        "outputId": "98abea55-986c-4e74-c7e5-449fb21aa8d7"
      },
      "id": "S9YxN4pCV1ob",
      "execution_count": null,
      "outputs": [
        {
          "output_type": "execute_result",
          "data": {
            "text/plain": [
              "    Area   Perimeter  Major_Axis_Length  Minor_Axis_Length  Eccentricity  \\\n",
              "0  15231  525.578979         229.749878          85.093788      0.928882   \n",
              "1  14656  494.311005         206.020065          91.730972      0.895405   \n",
              "2  14634  501.122009         214.106781          87.768288      0.912118   \n",
              "3  13176  458.342987         193.337387          87.448395      0.891861   \n",
              "4  14688  507.166992         211.743378          89.312454      0.906691   \n",
              "5  13479  477.015991         200.053055          86.650291      0.901328   \n",
              "6  15757  509.281006         207.296677          98.336136      0.880323   \n",
              "7  16405  526.570007         221.612518          95.436707      0.902521   \n",
              "8  14534  483.640991         196.650818          95.050682      0.875429   \n",
              "9  13485  471.570007         198.272644          87.727287      0.896789   \n",
              "\n",
              "   Convex_Area    Extent  \n",
              "0        15617  0.572896  \n",
              "1        15072  0.615436  \n",
              "2        14954  0.693259  \n",
              "3        13368  0.640669  \n",
              "4        15262  0.646024  \n",
              "5        13786  0.657897  \n",
              "6        16150  0.589708  \n",
              "7        16837  0.658888  \n",
              "8        14932  0.649651  \n",
              "9        13734  0.572320  "
            ],
            "text/html": [
              "\n",
              "  <div id=\"df-2e40b5f6-d7b2-442f-b222-e73ce41e3433\">\n",
              "    <div class=\"colab-df-container\">\n",
              "      <div>\n",
              "<style scoped>\n",
              "    .dataframe tbody tr th:only-of-type {\n",
              "        vertical-align: middle;\n",
              "    }\n",
              "\n",
              "    .dataframe tbody tr th {\n",
              "        vertical-align: top;\n",
              "    }\n",
              "\n",
              "    .dataframe thead th {\n",
              "        text-align: right;\n",
              "    }\n",
              "</style>\n",
              "<table border=\"1\" class=\"dataframe\">\n",
              "  <thead>\n",
              "    <tr style=\"text-align: right;\">\n",
              "      <th></th>\n",
              "      <th>Area</th>\n",
              "      <th>Perimeter</th>\n",
              "      <th>Major_Axis_Length</th>\n",
              "      <th>Minor_Axis_Length</th>\n",
              "      <th>Eccentricity</th>\n",
              "      <th>Convex_Area</th>\n",
              "      <th>Extent</th>\n",
              "    </tr>\n",
              "  </thead>\n",
              "  <tbody>\n",
              "    <tr>\n",
              "      <th>0</th>\n",
              "      <td>15231</td>\n",
              "      <td>525.578979</td>\n",
              "      <td>229.749878</td>\n",
              "      <td>85.093788</td>\n",
              "      <td>0.928882</td>\n",
              "      <td>15617</td>\n",
              "      <td>0.572896</td>\n",
              "    </tr>\n",
              "    <tr>\n",
              "      <th>1</th>\n",
              "      <td>14656</td>\n",
              "      <td>494.311005</td>\n",
              "      <td>206.020065</td>\n",
              "      <td>91.730972</td>\n",
              "      <td>0.895405</td>\n",
              "      <td>15072</td>\n",
              "      <td>0.615436</td>\n",
              "    </tr>\n",
              "    <tr>\n",
              "      <th>2</th>\n",
              "      <td>14634</td>\n",
              "      <td>501.122009</td>\n",
              "      <td>214.106781</td>\n",
              "      <td>87.768288</td>\n",
              "      <td>0.912118</td>\n",
              "      <td>14954</td>\n",
              "      <td>0.693259</td>\n",
              "    </tr>\n",
              "    <tr>\n",
              "      <th>3</th>\n",
              "      <td>13176</td>\n",
              "      <td>458.342987</td>\n",
              "      <td>193.337387</td>\n",
              "      <td>87.448395</td>\n",
              "      <td>0.891861</td>\n",
              "      <td>13368</td>\n",
              "      <td>0.640669</td>\n",
              "    </tr>\n",
              "    <tr>\n",
              "      <th>4</th>\n",
              "      <td>14688</td>\n",
              "      <td>507.166992</td>\n",
              "      <td>211.743378</td>\n",
              "      <td>89.312454</td>\n",
              "      <td>0.906691</td>\n",
              "      <td>15262</td>\n",
              "      <td>0.646024</td>\n",
              "    </tr>\n",
              "    <tr>\n",
              "      <th>5</th>\n",
              "      <td>13479</td>\n",
              "      <td>477.015991</td>\n",
              "      <td>200.053055</td>\n",
              "      <td>86.650291</td>\n",
              "      <td>0.901328</td>\n",
              "      <td>13786</td>\n",
              "      <td>0.657897</td>\n",
              "    </tr>\n",
              "    <tr>\n",
              "      <th>6</th>\n",
              "      <td>15757</td>\n",
              "      <td>509.281006</td>\n",
              "      <td>207.296677</td>\n",
              "      <td>98.336136</td>\n",
              "      <td>0.880323</td>\n",
              "      <td>16150</td>\n",
              "      <td>0.589708</td>\n",
              "    </tr>\n",
              "    <tr>\n",
              "      <th>7</th>\n",
              "      <td>16405</td>\n",
              "      <td>526.570007</td>\n",
              "      <td>221.612518</td>\n",
              "      <td>95.436707</td>\n",
              "      <td>0.902521</td>\n",
              "      <td>16837</td>\n",
              "      <td>0.658888</td>\n",
              "    </tr>\n",
              "    <tr>\n",
              "      <th>8</th>\n",
              "      <td>14534</td>\n",
              "      <td>483.640991</td>\n",
              "      <td>196.650818</td>\n",
              "      <td>95.050682</td>\n",
              "      <td>0.875429</td>\n",
              "      <td>14932</td>\n",
              "      <td>0.649651</td>\n",
              "    </tr>\n",
              "    <tr>\n",
              "      <th>9</th>\n",
              "      <td>13485</td>\n",
              "      <td>471.570007</td>\n",
              "      <td>198.272644</td>\n",
              "      <td>87.727287</td>\n",
              "      <td>0.896789</td>\n",
              "      <td>13734</td>\n",
              "      <td>0.572320</td>\n",
              "    </tr>\n",
              "  </tbody>\n",
              "</table>\n",
              "</div>\n",
              "      <button class=\"colab-df-convert\" onclick=\"convertToInteractive('df-2e40b5f6-d7b2-442f-b222-e73ce41e3433')\"\n",
              "              title=\"Convert this dataframe to an interactive table.\"\n",
              "              style=\"display:none;\">\n",
              "        \n",
              "  <svg xmlns=\"http://www.w3.org/2000/svg\" height=\"24px\"viewBox=\"0 0 24 24\"\n",
              "       width=\"24px\">\n",
              "    <path d=\"M0 0h24v24H0V0z\" fill=\"none\"/>\n",
              "    <path d=\"M18.56 5.44l.94 2.06.94-2.06 2.06-.94-2.06-.94-.94-2.06-.94 2.06-2.06.94zm-11 1L8.5 8.5l.94-2.06 2.06-.94-2.06-.94L8.5 2.5l-.94 2.06-2.06.94zm10 10l.94 2.06.94-2.06 2.06-.94-2.06-.94-.94-2.06-.94 2.06-2.06.94z\"/><path d=\"M17.41 7.96l-1.37-1.37c-.4-.4-.92-.59-1.43-.59-.52 0-1.04.2-1.43.59L10.3 9.45l-7.72 7.72c-.78.78-.78 2.05 0 2.83L4 21.41c.39.39.9.59 1.41.59.51 0 1.02-.2 1.41-.59l7.78-7.78 2.81-2.81c.8-.78.8-2.07 0-2.86zM5.41 20L4 18.59l7.72-7.72 1.47 1.35L5.41 20z\"/>\n",
              "  </svg>\n",
              "      </button>\n",
              "      \n",
              "  <style>\n",
              "    .colab-df-container {\n",
              "      display:flex;\n",
              "      flex-wrap:wrap;\n",
              "      gap: 12px;\n",
              "    }\n",
              "\n",
              "    .colab-df-convert {\n",
              "      background-color: #E8F0FE;\n",
              "      border: none;\n",
              "      border-radius: 50%;\n",
              "      cursor: pointer;\n",
              "      display: none;\n",
              "      fill: #1967D2;\n",
              "      height: 32px;\n",
              "      padding: 0 0 0 0;\n",
              "      width: 32px;\n",
              "    }\n",
              "\n",
              "    .colab-df-convert:hover {\n",
              "      background-color: #E2EBFA;\n",
              "      box-shadow: 0px 1px 2px rgba(60, 64, 67, 0.3), 0px 1px 3px 1px rgba(60, 64, 67, 0.15);\n",
              "      fill: #174EA6;\n",
              "    }\n",
              "\n",
              "    [theme=dark] .colab-df-convert {\n",
              "      background-color: #3B4455;\n",
              "      fill: #D2E3FC;\n",
              "    }\n",
              "\n",
              "    [theme=dark] .colab-df-convert:hover {\n",
              "      background-color: #434B5C;\n",
              "      box-shadow: 0px 1px 3px 1px rgba(0, 0, 0, 0.15);\n",
              "      filter: drop-shadow(0px 1px 2px rgba(0, 0, 0, 0.3));\n",
              "      fill: #FFFFFF;\n",
              "    }\n",
              "  </style>\n",
              "\n",
              "      <script>\n",
              "        const buttonEl =\n",
              "          document.querySelector('#df-2e40b5f6-d7b2-442f-b222-e73ce41e3433 button.colab-df-convert');\n",
              "        buttonEl.style.display =\n",
              "          google.colab.kernel.accessAllowed ? 'block' : 'none';\n",
              "\n",
              "        async function convertToInteractive(key) {\n",
              "          const element = document.querySelector('#df-2e40b5f6-d7b2-442f-b222-e73ce41e3433');\n",
              "          const dataTable =\n",
              "            await google.colab.kernel.invokeFunction('convertToInteractive',\n",
              "                                                     [key], {});\n",
              "          if (!dataTable) return;\n",
              "\n",
              "          const docLinkHtml = 'Like what you see? Visit the ' +\n",
              "            '<a target=\"_blank\" href=https://colab.research.google.com/notebooks/data_table.ipynb>data table notebook</a>'\n",
              "            + ' to learn more about interactive tables.';\n",
              "          element.innerHTML = '';\n",
              "          dataTable['output_type'] = 'display_data';\n",
              "          await google.colab.output.renderOutput(dataTable, element);\n",
              "          const docLink = document.createElement('div');\n",
              "          docLink.innerHTML = docLinkHtml;\n",
              "          element.appendChild(docLink);\n",
              "        }\n",
              "      </script>\n",
              "    </div>\n",
              "  </div>\n",
              "  "
            ]
          },
          "metadata": {},
          "execution_count": 14
        }
      ]
    },
    {
      "cell_type": "markdown",
      "source": [
        "### استاندارد سازی"
      ],
      "metadata": {
        "id": "EuvCMo-ESkSc"
      },
      "id": "EuvCMo-ESkSc"
    },
    {
      "cell_type": "code",
      "source": [
        "df_scaled = pd.DataFrame({'Area':[],'Perimeter':[],\n",
        "     'Major_Axis_Length':[],'Minor_Axis_Length':[]\n",
        "     ,'Eccentricity':[],'Convex_Area':[],'Extent':[]})\n",
        "\n",
        "for i in ['Area','Perimeter',\n",
        "     'Major_Axis_Length','Minor_Axis_Length'\n",
        "     ,'Eccentricity','Convex_Area','Extent']:\n",
        "     array = []\n",
        "     mean = rice_df[i].mean()\n",
        "     std = rice_df[i].std()\n",
        "     for x in rice_df[i]:\n",
        "       array.append((x - mean)/std)\n",
        "     df_scaled[i] = array\n",
        "df_scaled.head()"
      ],
      "metadata": {
        "id": "zYsgY55TZiGy",
        "colab": {
          "base_uri": "https://localhost:8080/",
          "height": 206
        },
        "outputId": "fd91283b-7779-4097-ebc2-f6d3628f9e59"
      },
      "id": "zYsgY55TZiGy",
      "execution_count": null,
      "outputs": [
        {
          "output_type": "execute_result",
          "data": {
            "text/plain": [
              "       Area  Perimeter  Major_Axis_Length  Minor_Axis_Length  Eccentricity  \\\n",
              "0  1.479635   2.004091           2.348238          -0.212915      2.018073   \n",
              "1  1.147720   1.125705           0.988261           0.945444      0.409964   \n",
              "2  1.135020   1.317041           1.451718           0.253854      1.212797   \n",
              "3  0.293398   0.115285           0.261405           0.198025      0.239720   \n",
              "4  1.166191   1.486858           1.316269           0.523351      0.952096   \n",
              "\n",
              "   Convex_Area    Extent  \n",
              "0     1.499463 -1.152770  \n",
              "1     1.192761 -0.602000  \n",
              "2     1.126356  0.405558  \n",
              "3     0.233826 -0.275315  \n",
              "4     1.299685 -0.205986  "
            ],
            "text/html": [
              "\n",
              "  <div id=\"df-7bfa5ae4-4d18-468d-9c97-b1149d9f3579\">\n",
              "    <div class=\"colab-df-container\">\n",
              "      <div>\n",
              "<style scoped>\n",
              "    .dataframe tbody tr th:only-of-type {\n",
              "        vertical-align: middle;\n",
              "    }\n",
              "\n",
              "    .dataframe tbody tr th {\n",
              "        vertical-align: top;\n",
              "    }\n",
              "\n",
              "    .dataframe thead th {\n",
              "        text-align: right;\n",
              "    }\n",
              "</style>\n",
              "<table border=\"1\" class=\"dataframe\">\n",
              "  <thead>\n",
              "    <tr style=\"text-align: right;\">\n",
              "      <th></th>\n",
              "      <th>Area</th>\n",
              "      <th>Perimeter</th>\n",
              "      <th>Major_Axis_Length</th>\n",
              "      <th>Minor_Axis_Length</th>\n",
              "      <th>Eccentricity</th>\n",
              "      <th>Convex_Area</th>\n",
              "      <th>Extent</th>\n",
              "    </tr>\n",
              "  </thead>\n",
              "  <tbody>\n",
              "    <tr>\n",
              "      <th>0</th>\n",
              "      <td>1.479635</td>\n",
              "      <td>2.004091</td>\n",
              "      <td>2.348238</td>\n",
              "      <td>-0.212915</td>\n",
              "      <td>2.018073</td>\n",
              "      <td>1.499463</td>\n",
              "      <td>-1.152770</td>\n",
              "    </tr>\n",
              "    <tr>\n",
              "      <th>1</th>\n",
              "      <td>1.147720</td>\n",
              "      <td>1.125705</td>\n",
              "      <td>0.988261</td>\n",
              "      <td>0.945444</td>\n",
              "      <td>0.409964</td>\n",
              "      <td>1.192761</td>\n",
              "      <td>-0.602000</td>\n",
              "    </tr>\n",
              "    <tr>\n",
              "      <th>2</th>\n",
              "      <td>1.135020</td>\n",
              "      <td>1.317041</td>\n",
              "      <td>1.451718</td>\n",
              "      <td>0.253854</td>\n",
              "      <td>1.212797</td>\n",
              "      <td>1.126356</td>\n",
              "      <td>0.405558</td>\n",
              "    </tr>\n",
              "    <tr>\n",
              "      <th>3</th>\n",
              "      <td>0.293398</td>\n",
              "      <td>0.115285</td>\n",
              "      <td>0.261405</td>\n",
              "      <td>0.198025</td>\n",
              "      <td>0.239720</td>\n",
              "      <td>0.233826</td>\n",
              "      <td>-0.275315</td>\n",
              "    </tr>\n",
              "    <tr>\n",
              "      <th>4</th>\n",
              "      <td>1.166191</td>\n",
              "      <td>1.486858</td>\n",
              "      <td>1.316269</td>\n",
              "      <td>0.523351</td>\n",
              "      <td>0.952096</td>\n",
              "      <td>1.299685</td>\n",
              "      <td>-0.205986</td>\n",
              "    </tr>\n",
              "  </tbody>\n",
              "</table>\n",
              "</div>\n",
              "      <button class=\"colab-df-convert\" onclick=\"convertToInteractive('df-7bfa5ae4-4d18-468d-9c97-b1149d9f3579')\"\n",
              "              title=\"Convert this dataframe to an interactive table.\"\n",
              "              style=\"display:none;\">\n",
              "        \n",
              "  <svg xmlns=\"http://www.w3.org/2000/svg\" height=\"24px\"viewBox=\"0 0 24 24\"\n",
              "       width=\"24px\">\n",
              "    <path d=\"M0 0h24v24H0V0z\" fill=\"none\"/>\n",
              "    <path d=\"M18.56 5.44l.94 2.06.94-2.06 2.06-.94-2.06-.94-.94-2.06-.94 2.06-2.06.94zm-11 1L8.5 8.5l.94-2.06 2.06-.94-2.06-.94L8.5 2.5l-.94 2.06-2.06.94zm10 10l.94 2.06.94-2.06 2.06-.94-2.06-.94-.94-2.06-.94 2.06-2.06.94z\"/><path d=\"M17.41 7.96l-1.37-1.37c-.4-.4-.92-.59-1.43-.59-.52 0-1.04.2-1.43.59L10.3 9.45l-7.72 7.72c-.78.78-.78 2.05 0 2.83L4 21.41c.39.39.9.59 1.41.59.51 0 1.02-.2 1.41-.59l7.78-7.78 2.81-2.81c.8-.78.8-2.07 0-2.86zM5.41 20L4 18.59l7.72-7.72 1.47 1.35L5.41 20z\"/>\n",
              "  </svg>\n",
              "      </button>\n",
              "      \n",
              "  <style>\n",
              "    .colab-df-container {\n",
              "      display:flex;\n",
              "      flex-wrap:wrap;\n",
              "      gap: 12px;\n",
              "    }\n",
              "\n",
              "    .colab-df-convert {\n",
              "      background-color: #E8F0FE;\n",
              "      border: none;\n",
              "      border-radius: 50%;\n",
              "      cursor: pointer;\n",
              "      display: none;\n",
              "      fill: #1967D2;\n",
              "      height: 32px;\n",
              "      padding: 0 0 0 0;\n",
              "      width: 32px;\n",
              "    }\n",
              "\n",
              "    .colab-df-convert:hover {\n",
              "      background-color: #E2EBFA;\n",
              "      box-shadow: 0px 1px 2px rgba(60, 64, 67, 0.3), 0px 1px 3px 1px rgba(60, 64, 67, 0.15);\n",
              "      fill: #174EA6;\n",
              "    }\n",
              "\n",
              "    [theme=dark] .colab-df-convert {\n",
              "      background-color: #3B4455;\n",
              "      fill: #D2E3FC;\n",
              "    }\n",
              "\n",
              "    [theme=dark] .colab-df-convert:hover {\n",
              "      background-color: #434B5C;\n",
              "      box-shadow: 0px 1px 3px 1px rgba(0, 0, 0, 0.15);\n",
              "      filter: drop-shadow(0px 1px 2px rgba(0, 0, 0, 0.3));\n",
              "      fill: #FFFFFF;\n",
              "    }\n",
              "  </style>\n",
              "\n",
              "      <script>\n",
              "        const buttonEl =\n",
              "          document.querySelector('#df-7bfa5ae4-4d18-468d-9c97-b1149d9f3579 button.colab-df-convert');\n",
              "        buttonEl.style.display =\n",
              "          google.colab.kernel.accessAllowed ? 'block' : 'none';\n",
              "\n",
              "        async function convertToInteractive(key) {\n",
              "          const element = document.querySelector('#df-7bfa5ae4-4d18-468d-9c97-b1149d9f3579');\n",
              "          const dataTable =\n",
              "            await google.colab.kernel.invokeFunction('convertToInteractive',\n",
              "                                                     [key], {});\n",
              "          if (!dataTable) return;\n",
              "\n",
              "          const docLinkHtml = 'Like what you see? Visit the ' +\n",
              "            '<a target=\"_blank\" href=https://colab.research.google.com/notebooks/data_table.ipynb>data table notebook</a>'\n",
              "            + ' to learn more about interactive tables.';\n",
              "          element.innerHTML = '';\n",
              "          dataTable['output_type'] = 'display_data';\n",
              "          await google.colab.output.renderOutput(dataTable, element);\n",
              "          const docLink = document.createElement('div');\n",
              "          docLink.innerHTML = docLinkHtml;\n",
              "          element.appendChild(docLink);\n",
              "        }\n",
              "      </script>\n",
              "    </div>\n",
              "  </div>\n",
              "  "
            ]
          },
          "metadata": {},
          "execution_count": 15
        }
      ]
    },
    {
      "cell_type": "code",
      "source": [
        "df_scaled.mean().round(2)"
      ],
      "metadata": {
        "id": "RraQcQBfFUrS",
        "colab": {
          "base_uri": "https://localhost:8080/"
        },
        "outputId": "e4b5e077-6514-4119-f443-aa3eae932f1b"
      },
      "id": "RraQcQBfFUrS",
      "execution_count": null,
      "outputs": [
        {
          "output_type": "execute_result",
          "data": {
            "text/plain": [
              "Area                 0.0\n",
              "Perimeter            0.0\n",
              "Major_Axis_Length    0.0\n",
              "Minor_Axis_Length   -0.0\n",
              "Eccentricity        -0.0\n",
              "Convex_Area         -0.0\n",
              "Extent              -0.0\n",
              "dtype: float64"
            ]
          },
          "metadata": {},
          "execution_count": 16
        }
      ]
    },
    {
      "cell_type": "code",
      "source": [
        "df_scaled.std()"
      ],
      "metadata": {
        "colab": {
          "base_uri": "https://localhost:8080/"
        },
        "id": "k3mwRAoE8d2c",
        "outputId": "22d70659-2149-40f6-e3a4-c0361fef310c"
      },
      "id": "k3mwRAoE8d2c",
      "execution_count": null,
      "outputs": [
        {
          "output_type": "execute_result",
          "data": {
            "text/plain": [
              "Area                 1.0\n",
              "Perimeter            1.0\n",
              "Major_Axis_Length    1.0\n",
              "Minor_Axis_Length    1.0\n",
              "Eccentricity         1.0\n",
              "Convex_Area          1.0\n",
              "Extent               1.0\n",
              "dtype: float64"
            ]
          },
          "metadata": {},
          "execution_count": 17
        }
      ]
    },
    {
      "cell_type": "code",
      "source": [
        "plt.bar(df_scaled['Area'].unique(),df_scaled.Area.value_counts())"
      ],
      "metadata": {
        "colab": {
          "base_uri": "https://localhost:8080/",
          "height": 448
        },
        "id": "k3OueKfddYww",
        "outputId": "a5ace9a2-f5b5-44bc-e5e6-156352985e9c"
      },
      "id": "k3OueKfddYww",
      "execution_count": null,
      "outputs": [
        {
          "output_type": "execute_result",
          "data": {
            "text/plain": [
              "<BarContainer object of 2828 artists>"
            ]
          },
          "metadata": {},
          "execution_count": 18
        },
        {
          "output_type": "display_data",
          "data": {
            "text/plain": [
              "<Figure size 640x480 with 1 Axes>"
            ],
            "image/png": "[encoded data removed]"
          },
          "metadata": {}
        }
      ]
    },
    {
      "cell_type": "markdown",
      "source": [
        "# جلسه سوم"
      ],
      "metadata": {
        "id": "04kwx3R_Nup9"
      },
      "id": "04kwx3R_Nup9"
    },
    {
      "cell_type": "markdown",
      "source": [
        "### ساخت دیتای جدید"
      ],
      "metadata": {
        "id": "mJJsyEe5Nzkx"
      },
      "id": "mJJsyEe5Nzkx"
    },
    {
      "cell_type": "code",
      "source": [
        "d = {'Area':[15231],'Perimeter':[525.579],\n",
        "     'Major_Axis_Length':[229.7499],'Minor_Axis_Length':[85.09379]\n",
        "     ,'Eccentricity':[0.928882],'Convex_Area':[15617],'Extent':[0.572896]}\n",
        "\n",
        "test_data = pd.DataFrame(d)"
      ],
      "metadata": {
        "id": "P3SzyQBpODJP"
      },
      "id": "P3SzyQBpODJP",
      "execution_count": null,
      "outputs": []
    },
    {
      "cell_type": "markdown",
      "source": [
        "### استاندارد سازی دیتای جدید"
      ],
      "metadata": {
        "id": "FODXPZnabEvI"
      },
      "id": "FODXPZnabEvI"
    },
    {
      "cell_type": "code",
      "source": [
        "test_data_scaled = pd.DataFrame({'Area':[],'Perimeter':[],\n",
        "     'Major_Axis_Length':[],'Minor_Axis_Length':[]\n",
        "     ,'Eccentricity':[],'Convex_Area':[],'Extent':[]})\n",
        "\n",
        "for i in [\n",
        "  'Area','Perimeter','Major_Axis_Length','Minor_Axis_Length','Eccentricity','Convex_Area','Extent']:\n",
        "    mean = df[i].mean()\n",
        "    std = df[i].std()\n",
        "    test_data_scaled[i] = (d[i]-mean)/std"
      ],
      "metadata": {
        "id": "dHUvcljHOS9i"
      },
      "id": "dHUvcljHOS9i",
      "execution_count": null,
      "outputs": []
    },
    {
      "cell_type": "markdown",
      "source": [
        "### برای کار با آرایه های عددی نامپای را ایمپورت میکنیم"
      ],
      "metadata": {
        "id": "XWh-tpEwbMIN"
      },
      "id": "XWh-tpEwbMIN"
    },
    {
      "cell_type": "code",
      "source": [
        "import numpy as np"
      ],
      "metadata": {
        "id": "Zmya4vIFN8c2"
      },
      "id": "Zmya4vIFN8c2",
      "execution_count": null,
      "outputs": []
    },
    {
      "cell_type": "markdown",
      "source": [
        "### تبدیل داده جدید به آرایه عددی"
      ],
      "metadata": {
        "id": "wZXleBP0bZe5"
      },
      "id": "wZXleBP0bZe5"
    },
    {
      "cell_type": "code",
      "source": [
        "np_test_scaled = test_data_scaled.to_numpy()\n",
        "np_test_scaled"
      ],
      "metadata": {
        "colab": {
          "base_uri": "https://localhost:8080/"
        },
        "id": "2ijIPmJmY9iP",
        "outputId": "d2d3dc40-9e31-4fde-ed10-7a577a0549e3"
      },
      "id": "2ijIPmJmY9iP",
      "execution_count": null,
      "outputs": [
        {
          "output_type": "execute_result",
          "data": {
            "text/plain": [
              "array([[ 1.47963532,  2.00409182,  2.34823961, -0.21291436,  2.01807242,\n",
              "         1.49946262, -1.15276349]])"
            ]
          },
          "metadata": {},
          "execution_count": 22
        }
      ]
    },
    {
      "cell_type": "markdown",
      "source": [
        "### تبدیل داده های اولیه به آرایه های عددی"
      ],
      "metadata": {
        "id": "oY4lwNacbj7f"
      },
      "id": "oY4lwNacbj7f"
    },
    {
      "cell_type": "code",
      "source": [
        "np_df_scaled = df_scaled.to_numpy()\n",
        "np_df_scaled"
      ],
      "metadata": {
        "colab": {
          "base_uri": "https://localhost:8080/"
        },
        "id": "QlNF3sArZJZa",
        "outputId": "f62385cc-5797-4bc5-e7e1-c67a91581c1f"
      },
      "id": "QlNF3sArZJZa",
      "execution_count": null,
      "outputs": [
        {
          "output_type": "execute_result",
          "data": {
            "text/plain": [
              "array([[ 1.47963532,  2.00409125,  2.34823834, ...,  2.01807257,\n",
              "         1.49946262, -1.15276961],\n",
              "       [ 1.14771964,  1.12570533,  0.98826071, ...,  0.40996432,\n",
              "         1.19276111, -0.60199975],\n",
              "       [ 1.13502026,  1.31704138,  1.45171791, ...,  1.21279729,\n",
              "         1.12635602,  0.40555776],\n",
              "       ...,\n",
              "       [-0.13318625, -0.32980758, -0.29820597, ..., -0.27506304,\n",
              "        -0.17304541, -0.45567127],\n",
              "       [-1.60804635, -1.74009162, -1.58076367, ..., -0.59874276,\n",
              "        -1.60694529, -0.03716269],\n",
              "       [-0.71216264, -1.39138341, -1.58733812, ..., -2.93877438,\n",
              "        -0.76618924,  1.82570729]])"
            ]
          },
          "metadata": {},
          "execution_count": 23
        }
      ]
    },
    {
      "cell_type": "markdown",
      "source": [
        "### محاسبه فاصله اقلیدسی"
      ],
      "metadata": {
        "id": "Z5GelIulbsXq"
      },
      "id": "Z5GelIulbsXq"
    },
    {
      "cell_type": "code",
      "source": [
        "euclidean_dist = np.zeros(shape=(len(np_df_scaled)))\n",
        "print(type(euclidean_dist))\n",
        "for i in range (len(np_df_scaled)):\n",
        "    euclidean_dist[i] = np.sqrt(np.sum([(a-b)*(a-b) for a, b in zip(np_test_scaled , np_df_scaled[i])]))\n",
        "print(euclidean_dist)"
      ],
      "metadata": {
        "colab": {
          "base_uri": "https://localhost:8080/"
        },
        "id": "9zSKdUYrOvxw",
        "outputId": "532a7fa5-bceb-43ba-f3ef-31e14f8c9153"
      },
      "id": "9zSKdUYrOvxw",
      "execution_count": null,
      "outputs": [
        {
          "output_type": "stream",
          "name": "stdout",
          "text": [
            "<class 'numpy.ndarray'>\n",
            "[3.33377917 3.21085255 3.21082975 ... 4.65467247 7.9493738  5.85977186]\n"
          ]
        }
      ]
    },
    {
      "cell_type": "markdown",
      "source": [
        "### افزودن فاصله ها به شکل یک ستون در دیتافریم"
      ],
      "metadata": {
        "id": "ZWbTOoQvb0sr"
      },
      "id": "ZWbTOoQvb0sr"
    },
    {
      "cell_type": "code",
      "source": [
        "df_scaled['euclidean_meter'] = euclidean_dist\n",
        "df_scaled.head()"
      ],
      "metadata": {
        "colab": {
          "base_uri": "https://localhost:8080/",
          "height": 206
        },
        "id": "v9diHqXkaF7Z",
        "outputId": "a2d6b70e-2183-4ca2-c968-0cc9c0263488"
      },
      "id": "v9diHqXkaF7Z",
      "execution_count": null,
      "outputs": [
        {
          "output_type": "execute_result",
          "data": {
            "text/plain": [
              "       Area  Perimeter  Major_Axis_Length  Minor_Axis_Length  Eccentricity  \\\n",
              "0  1.479635   2.004091           2.348238          -0.212915      2.018073   \n",
              "1  1.147720   1.125705           0.988261           0.945444      0.409964   \n",
              "2  1.135020   1.317041           1.451718           0.253854      1.212797   \n",
              "3  0.293398   0.115285           0.261405           0.198025      0.239720   \n",
              "4  1.166191   1.486858           1.316269           0.523351      0.952096   \n",
              "\n",
              "   Convex_Area    Extent  euclidean_meter  \n",
              "0     1.499463 -1.152770         3.333779  \n",
              "1     1.192761 -0.602000         3.210853  \n",
              "2     1.126356  0.405558         3.210830  \n",
              "3     0.233826 -0.275315         3.915717  \n",
              "4     1.299685 -0.205986         3.211513  "
            ],
            "text/html": [
              "\n",
              "  <div id=\"df-8f64e07c-fea1-472d-bc19-20dde5c6b461\">\n",
              "    <div class=\"colab-df-container\">\n",
              "      <div>\n",
              "<style scoped>\n",
              "    .dataframe tbody tr th:only-of-type {\n",
              "        vertical-align: middle;\n",
              "    }\n",
              "\n",
              "    .dataframe tbody tr th {\n",
              "        vertical-align: top;\n",
              "    }\n",
              "\n",
              "    .dataframe thead th {\n",
              "        text-align: right;\n",
              "    }\n",
              "</style>\n",
              "<table border=\"1\" class=\"dataframe\">\n",
              "  <thead>\n",
              "    <tr style=\"text-align: right;\">\n",
              "      <th></th>\n",
              "      <th>Area</th>\n",
              "      <th>Perimeter</th>\n",
              "      <th>Major_Axis_Length</th>\n",
              "      <th>Minor_Axis_Length</th>\n",
              "      <th>Eccentricity</th>\n",
              "      <th>Convex_Area</th>\n",
              "      <th>Extent</th>\n",
              "      <th>euclidean_meter</th>\n",
              "    </tr>\n",
              "  </thead>\n",
              "  <tbody>\n",
              "    <tr>\n",
              "      <th>0</th>\n",
              "      <td>1.479635</td>\n",
              "      <td>2.004091</td>\n",
              "      <td>2.348238</td>\n",
              "      <td>-0.212915</td>\n",
              "      <td>2.018073</td>\n",
              "      <td>1.499463</td>\n",
              "      <td>-1.152770</td>\n",
              "      <td>3.333779</td>\n",
              "    </tr>\n",
              "    <tr>\n",
              "      <th>1</th>\n",
              "      <td>1.147720</td>\n",
              "      <td>1.125705</td>\n",
              "      <td>0.988261</td>\n",
              "      <td>0.945444</td>\n",
              "      <td>0.409964</td>\n",
              "      <td>1.192761</td>\n",
              "      <td>-0.602000</td>\n",
              "      <td>3.210853</td>\n",
              "    </tr>\n",
              "    <tr>\n",
              "      <th>2</th>\n",
              "      <td>1.135020</td>\n",
              "      <td>1.317041</td>\n",
              "      <td>1.451718</td>\n",
              "      <td>0.253854</td>\n",
              "      <td>1.212797</td>\n",
              "      <td>1.126356</td>\n",
              "      <td>0.405558</td>\n",
              "      <td>3.210830</td>\n",
              "    </tr>\n",
              "    <tr>\n",
              "      <th>3</th>\n",
              "      <td>0.293398</td>\n",
              "      <td>0.115285</td>\n",
              "      <td>0.261405</td>\n",
              "      <td>0.198025</td>\n",
              "      <td>0.239720</td>\n",
              "      <td>0.233826</td>\n",
              "      <td>-0.275315</td>\n",
              "      <td>3.915717</td>\n",
              "    </tr>\n",
              "    <tr>\n",
              "      <th>4</th>\n",
              "      <td>1.166191</td>\n",
              "      <td>1.486858</td>\n",
              "      <td>1.316269</td>\n",
              "      <td>0.523351</td>\n",
              "      <td>0.952096</td>\n",
              "      <td>1.299685</td>\n",
              "      <td>-0.205986</td>\n",
              "      <td>3.211513</td>\n",
              "    </tr>\n",
              "  </tbody>\n",
              "</table>\n",
              "</div>\n",
              "      <button class=\"colab-df-convert\" onclick=\"convertToInteractive('df-8f64e07c-fea1-472d-bc19-20dde5c6b461')\"\n",
              "              title=\"Convert this dataframe to an interactive table.\"\n",
              "              style=\"display:none;\">\n",
              "        \n",
              "  <svg xmlns=\"http://www.w3.org/2000/svg\" height=\"24px\"viewBox=\"0 0 24 24\"\n",
              "       width=\"24px\">\n",
              "    <path d=\"M0 0h24v24H0V0z\" fill=\"none\"/>\n",
              "    <path d=\"M18.56 5.44l.94 2.06.94-2.06 2.06-.94-2.06-.94-.94-2.06-.94 2.06-2.06.94zm-11 1L8.5 8.5l.94-2.06 2.06-.94-2.06-.94L8.5 2.5l-.94 2.06-2.06.94zm10 10l.94 2.06.94-2.06 2.06-.94-2.06-.94-.94-2.06-.94 2.06-2.06.94z\"/><path d=\"M17.41 7.96l-1.37-1.37c-.4-.4-.92-.59-1.43-.59-.52 0-1.04.2-1.43.59L10.3 9.45l-7.72 7.72c-.78.78-.78 2.05 0 2.83L4 21.41c.39.39.9.59 1.41.59.51 0 1.02-.2 1.41-.59l7.78-7.78 2.81-2.81c.8-.78.8-2.07 0-2.86zM5.41 20L4 18.59l7.72-7.72 1.47 1.35L5.41 20z\"/>\n",
              "  </svg>\n",
              "      </button>\n",
              "      \n",
              "  <style>\n",
              "    .colab-df-container {\n",
              "      display:flex;\n",
              "      flex-wrap:wrap;\n",
              "      gap: 12px;\n",
              "    }\n",
              "\n",
              "    .colab-df-convert {\n",
              "      background-color: #E8F0FE;\n",
              "      border: none;\n",
              "      border-radius: 50%;\n",
              "      cursor: pointer;\n",
              "      display: none;\n",
              "      fill: #1967D2;\n",
              "      height: 32px;\n",
              "      padding: 0 0 0 0;\n",
              "      width: 32px;\n",
              "    }\n",
              "\n",
              "    .colab-df-convert:hover {\n",
              "      background-color: #E2EBFA;\n",
              "      box-shadow: 0px 1px 2px rgba(60, 64, 67, 0.3), 0px 1px 3px 1px rgba(60, 64, 67, 0.15);\n",
              "      fill: #174EA6;\n",
              "    }\n",
              "\n",
              "    [theme=dark] .colab-df-convert {\n",
              "      background-color: #3B4455;\n",
              "      fill: #D2E3FC;\n",
              "    }\n",
              "\n",
              "    [theme=dark] .colab-df-convert:hover {\n",
              "      background-color: #434B5C;\n",
              "      box-shadow: 0px 1px 3px 1px rgba(0, 0, 0, 0.15);\n",
              "      filter: drop-shadow(0px 1px 2px rgba(0, 0, 0, 0.3));\n",
              "      fill: #FFFFFF;\n",
              "    }\n",
              "  </style>\n",
              "\n",
              "      <script>\n",
              "        const buttonEl =\n",
              "          document.querySelector('#df-8f64e07c-fea1-472d-bc19-20dde5c6b461 button.colab-df-convert');\n",
              "        buttonEl.style.display =\n",
              "          google.colab.kernel.accessAllowed ? 'block' : 'none';\n",
              "\n",
              "        async function convertToInteractive(key) {\n",
              "          const element = document.querySelector('#df-8f64e07c-fea1-472d-bc19-20dde5c6b461');\n",
              "          const dataTable =\n",
              "            await google.colab.kernel.invokeFunction('convertToInteractive',\n",
              "                                                     [key], {});\n",
              "          if (!dataTable) return;\n",
              "\n",
              "          const docLinkHtml = 'Like what you see? Visit the ' +\n",
              "            '<a target=\"_blank\" href=https://colab.research.google.com/notebooks/data_table.ipynb>data table notebook</a>'\n",
              "            + ' to learn more about interactive tables.';\n",
              "          element.innerHTML = '';\n",
              "          dataTable['output_type'] = 'display_data';\n",
              "          await google.colab.output.renderOutput(dataTable, element);\n",
              "          const docLink = document.createElement('div');\n",
              "          docLink.innerHTML = docLinkHtml;\n",
              "          element.appendChild(docLink);\n",
              "        }\n",
              "      </script>\n",
              "    </div>\n",
              "  </div>\n",
              "  "
            ]
          },
          "metadata": {},
          "execution_count": 25
        }
      ]
    },
    {
      "cell_type": "markdown",
      "source": [
        "### افزودن لیبل هایی که کنار گذاشته بودیم به داده های استاندارد سازی شده\n",
        "\n",
        "*   List item\n",
        "*   List item\n",
        "\n"
      ],
      "metadata": {
        "id": "hrHxhEOPb-SB"
      },
      "id": "hrHxhEOPb-SB"
    },
    {
      "cell_type": "code",
      "source": [
        "df_scaled['Calss'] = df['Class']\n",
        "df_scaled.head()"
      ],
      "metadata": {
        "colab": {
          "base_uri": "https://localhost:8080/",
          "height": 206
        },
        "id": "1Z_T2qg4ahdS",
        "outputId": "fce3c595-4602-42fa-f276-4f1ae278b351"
      },
      "id": "1Z_T2qg4ahdS",
      "execution_count": null,
      "outputs": [
        {
          "output_type": "execute_result",
          "data": {
            "text/plain": [
              "       Area  Perimeter  Major_Axis_Length  Minor_Axis_Length  Eccentricity  \\\n",
              "0  1.479635   2.004091           2.348238          -0.212915      2.018073   \n",
              "1  1.147720   1.125705           0.988261           0.945444      0.409964   \n",
              "2  1.135020   1.317041           1.451718           0.253854      1.212797   \n",
              "3  0.293398   0.115285           0.261405           0.198025      0.239720   \n",
              "4  1.166191   1.486858           1.316269           0.523351      0.952096   \n",
              "\n",
              "   Convex_Area    Extent  euclidean_meter   Calss  \n",
              "0     1.499463 -1.152770         3.333779  Cammeo  \n",
              "1     1.192761 -0.602000         3.210853  Cammeo  \n",
              "2     1.126356  0.405558         3.210830  Cammeo  \n",
              "3     0.233826 -0.275315         3.915717  Cammeo  \n",
              "4     1.299685 -0.205986         3.211513  Cammeo  "
            ],
            "text/html": [
              "\n",
              "  <div id=\"df-b1d13103-7c5f-4824-ba62-f5f90f233deb\">\n",
              "    <div class=\"colab-df-container\">\n",
              "      <div>\n",
              "<style scoped>\n",
              "    .dataframe tbody tr th:only-of-type {\n",
              "        vertical-align: middle;\n",
              "    }\n",
              "\n",
              "    .dataframe tbody tr th {\n",
              "        vertical-align: top;\n",
              "    }\n",
              "\n",
              "    .dataframe thead th {\n",
              "        text-align: right;\n",
              "    }\n",
              "</style>\n",
              "<table border=\"1\" class=\"dataframe\">\n",
              "  <thead>\n",
              "    <tr style=\"text-align: right;\">\n",
              "      <th></th>\n",
              "      <th>Area</th>\n",
              "      <th>Perimeter</th>\n",
              "      <th>Major_Axis_Length</th>\n",
              "      <th>Minor_Axis_Length</th>\n",
              "      <th>Eccentricity</th>\n",
              "      <th>Convex_Area</th>\n",
              "      <th>Extent</th>\n",
              "      <th>euclidean_meter</th>\n",
              "      <th>Calss</th>\n",
              "    </tr>\n",
              "  </thead>\n",
              "  <tbody>\n",
              "    <tr>\n",
              "      <th>0</th>\n",
              "      <td>1.479635</td>\n",
              "      <td>2.004091</td>\n",
              "      <td>2.348238</td>\n",
              "      <td>-0.212915</td>\n",
              "      <td>2.018073</td>\n",
              "      <td>1.499463</td>\n",
              "      <td>-1.152770</td>\n",
              "      <td>3.333779</td>\n",
              "      <td>Cammeo</td>\n",
              "    </tr>\n",
              "    <tr>\n",
              "      <th>1</th>\n",
              "      <td>1.147720</td>\n",
              "      <td>1.125705</td>\n",
              "      <td>0.988261</td>\n",
              "      <td>0.945444</td>\n",
              "      <td>0.409964</td>\n",
              "      <td>1.192761</td>\n",
              "      <td>-0.602000</td>\n",
              "      <td>3.210853</td>\n",
              "      <td>Cammeo</td>\n",
              "    </tr>\n",
              "    <tr>\n",
              "      <th>2</th>\n",
              "      <td>1.135020</td>\n",
              "      <td>1.317041</td>\n",
              "      <td>1.451718</td>\n",
              "      <td>0.253854</td>\n",
              "      <td>1.212797</td>\n",
              "      <td>1.126356</td>\n",
              "      <td>0.405558</td>\n",
              "      <td>3.210830</td>\n",
              "      <td>Cammeo</td>\n",
              "    </tr>\n",
              "    <tr>\n",
              "      <th>3</th>\n",
              "      <td>0.293398</td>\n",
              "      <td>0.115285</td>\n",
              "      <td>0.261405</td>\n",
              "      <td>0.198025</td>\n",
              "      <td>0.239720</td>\n",
              "      <td>0.233826</td>\n",
              "      <td>-0.275315</td>\n",
              "      <td>3.915717</td>\n",
              "      <td>Cammeo</td>\n",
              "    </tr>\n",
              "    <tr>\n",
              "      <th>4</th>\n",
              "      <td>1.166191</td>\n",
              "      <td>1.486858</td>\n",
              "      <td>1.316269</td>\n",
              "      <td>0.523351</td>\n",
              "      <td>0.952096</td>\n",
              "      <td>1.299685</td>\n",
              "      <td>-0.205986</td>\n",
              "      <td>3.211513</td>\n",
              "      <td>Cammeo</td>\n",
              "    </tr>\n",
              "  </tbody>\n",
              "</table>\n",
              "</div>\n",
              "      <button class=\"colab-df-convert\" onclick=\"convertToInteractive('df-b1d13103-7c5f-4824-ba62-f5f90f233deb')\"\n",
              "              title=\"Convert this dataframe to an interactive table.\"\n",
              "              style=\"display:none;\">\n",
              "        \n",
              "  <svg xmlns=\"http://www.w3.org/2000/svg\" height=\"24px\"viewBox=\"0 0 24 24\"\n",
              "       width=\"24px\">\n",
              "    <path d=\"M0 0h24v24H0V0z\" fill=\"none\"/>\n",
              "    <path d=\"M18.56 5.44l.94 2.06.94-2.06 2.06-.94-2.06-.94-.94-2.06-.94 2.06-2.06.94zm-11 1L8.5 8.5l.94-2.06 2.06-.94-2.06-.94L8.5 2.5l-.94 2.06-2.06.94zm10 10l.94 2.06.94-2.06 2.06-.94-2.06-.94-.94-2.06-.94 2.06-2.06.94z\"/><path d=\"M17.41 7.96l-1.37-1.37c-.4-.4-.92-.59-1.43-.59-.52 0-1.04.2-1.43.59L10.3 9.45l-7.72 7.72c-.78.78-.78 2.05 0 2.83L4 21.41c.39.39.9.59 1.41.59.51 0 1.02-.2 1.41-.59l7.78-7.78 2.81-2.81c.8-.78.8-2.07 0-2.86zM5.41 20L4 18.59l7.72-7.72 1.47 1.35L5.41 20z\"/>\n",
              "  </svg>\n",
              "      </button>\n",
              "      \n",
              "  <style>\n",
              "    .colab-df-container {\n",
              "      display:flex;\n",
              "      flex-wrap:wrap;\n",
              "      gap: 12px;\n",
              "    }\n",
              "\n",
              "    .colab-df-convert {\n",
              "      background-color: #E8F0FE;\n",
              "      border: none;\n",
              "      border-radius: 50%;\n",
              "      cursor: pointer;\n",
              "      display: none;\n",
              "      fill: #1967D2;\n",
              "      height: 32px;\n",
              "      padding: 0 0 0 0;\n",
              "      width: 32px;\n",
              "    }\n",
              "\n",
              "    .colab-df-convert:hover {\n",
              "      background-color: #E2EBFA;\n",
              "      box-shadow: 0px 1px 2px rgba(60, 64, 67, 0.3), 0px 1px 3px 1px rgba(60, 64, 67, 0.15);\n",
              "      fill: #174EA6;\n",
              "    }\n",
              "\n",
              "    [theme=dark] .colab-df-convert {\n",
              "      background-color: #3B4455;\n",
              "      fill: #D2E3FC;\n",
              "    }\n",
              "\n",
              "    [theme=dark] .colab-df-convert:hover {\n",
              "      background-color: #434B5C;\n",
              "      box-shadow: 0px 1px 3px 1px rgba(0, 0, 0, 0.15);\n",
              "      filter: drop-shadow(0px 1px 2px rgba(0, 0, 0, 0.3));\n",
              "      fill: #FFFFFF;\n",
              "    }\n",
              "  </style>\n",
              "\n",
              "      <script>\n",
              "        const buttonEl =\n",
              "          document.querySelector('#df-b1d13103-7c5f-4824-ba62-f5f90f233deb button.colab-df-convert');\n",
              "        buttonEl.style.display =\n",
              "          google.colab.kernel.accessAllowed ? 'block' : 'none';\n",
              "\n",
              "        async function convertToInteractive(key) {\n",
              "          const element = document.querySelector('#df-b1d13103-7c5f-4824-ba62-f5f90f233deb');\n",
              "          const dataTable =\n",
              "            await google.colab.kernel.invokeFunction('convertToInteractive',\n",
              "                                                     [key], {});\n",
              "          if (!dataTable) return;\n",
              "\n",
              "          const docLinkHtml = 'Like what you see? Visit the ' +\n",
              "            '<a target=\"_blank\" href=https://colab.research.google.com/notebooks/data_table.ipynb>data table notebook</a>'\n",
              "            + ' to learn more about interactive tables.';\n",
              "          element.innerHTML = '';\n",
              "          dataTable['output_type'] = 'display_data';\n",
              "          await google.colab.output.renderOutput(dataTable, element);\n",
              "          const docLink = document.createElement('div');\n",
              "          docLink.innerHTML = docLinkHtml;\n",
              "          element.appendChild(docLink);\n",
              "        }\n",
              "      </script>\n",
              "    </div>\n",
              "  </div>\n",
              "  "
            ]
          },
          "metadata": {},
          "execution_count": 26
        }
      ]
    },
    {
      "cell_type": "markdown",
      "source": [
        "[link text](https://)### مرتب کردن داده ها بر اساس فاصله اقلیدسی از داده جدید "
      ],
      "metadata": {
        "id": "0Hl22MsIcKfJ"
      },
      "id": "0Hl22MsIcKfJ"
    },
    {
      "cell_type": "code",
      "source": [
        "sorted_df = df_scaled.sort_values(by=['euclidean_meter'])\n",
        "sorted_df[0:17]"
      ],
      "metadata": {
        "colab": {
          "base_uri": "https://localhost:8080/",
          "height": 583
        },
        "id": "Kp9LMmRzaOpZ",
        "outputId": "e590f4c8-b4f9-49ee-d5fe-90d25ec92480"
      },
      "id": "Kp9LMmRzaOpZ",
      "execution_count": null,
      "outputs": [
        {
          "output_type": "execute_result",
          "data": {
            "text/plain": [
              "          Area  Perimeter  Major_Axis_Length  Minor_Axis_Length  Eccentricity  \\\n",
              "810   1.141370   0.867313           0.709369           1.268216     -0.080435   \n",
              "469   1.141947   1.607233           1.817121          -0.119034      1.663373   \n",
              "114   1.139061   1.426039           1.307115           0.649180      0.868385   \n",
              "1425  1.138484   1.322716           1.233066           0.701241      0.776764   \n",
              "239   1.145411   0.879505           0.732284           1.245217     -0.040717   \n",
              "951   1.145411   1.266868           1.359857           0.425422      1.044282   \n",
              "2     1.135020   1.317041           1.451718           0.253854      1.212797   \n",
              "758   1.135020   1.089635           1.109536           0.709566      0.669165   \n",
              "709   1.146565   1.232231           1.483097           0.186183      1.274109   \n",
              "618   1.134443   1.147701           1.146466           0.688008      0.713776   \n",
              "126   1.147142   1.052778           0.651664           1.477659     -0.293310   \n",
              "1     1.147720   1.125705           0.988261           0.945444      0.409964   \n",
              "1596  1.148874   0.897259           0.751364           1.203183      0.008357   \n",
              "2431  1.148874   0.642688           0.045299           2.388214     -1.792709   \n",
              "584   1.130980   1.231388           0.974934           1.067148      0.316496   \n",
              "561   1.130402   1.351735           1.373082           0.396110      1.071668   \n",
              "11    1.130402   1.189615           0.903101           1.162536      0.184509   \n",
              "\n",
              "      Convex_Area    Extent  euclidean_meter     Calss  \n",
              "810      1.089777 -0.201025         3.210797    Cammeo  \n",
              "469      1.151680 -0.327065         3.210799    Cammeo  \n",
              "114      1.171376 -0.419169         3.210799    Cammeo  \n",
              "1425     1.219211 -0.976137         3.210801    Cammeo  \n",
              "239      1.086400 -0.890533         3.210822    Cammeo  \n",
              "951      1.174190  1.372245         3.210822    Cammeo  \n",
              "2        1.126356  0.405558         3.210830    Cammeo  \n",
              "758      1.094842  0.625546         3.210830    Cammeo  \n",
              "709      1.099907  1.836093         3.210836    Cammeo  \n",
              "618      1.139862 -0.237305         3.210837    Cammeo  \n",
              "126      1.254101 -0.790066         3.210844    Cammeo  \n",
              "1        1.192761 -0.602000         3.210853    Cammeo  \n",
              "1596     1.091465 -0.176554         3.210872    Cammeo  \n",
              "2431     1.179255 -0.160934         3.210872  Osmancik  \n",
              "584      1.203453 -0.730353         3.210896    Cammeo  \n",
              "561      1.150554 -1.041311         3.210909    Cammeo  \n",
              "11       1.191636 -1.187481         3.210909    Cammeo  "
            ],
            "text/html": [
              "\n",
              "  <div id=\"df-4c9b5b80-1b8e-428d-9a73-333b60b0a87f\">\n",
              "    <div class=\"colab-df-container\">\n",
              "      <div>\n",
              "<style scoped>\n",
              "    .dataframe tbody tr th:only-of-type {\n",
              "        vertical-align: middle;\n",
              "    }\n",
              "\n",
              "    .dataframe tbody tr th {\n",
              "        vertical-align: top;\n",
              "    }\n",
              "\n",
              "    .dataframe thead th {\n",
              "        text-align: right;\n",
              "    }\n",
              "</style>\n",
              "<table border=\"1\" class=\"dataframe\">\n",
              "  <thead>\n",
              "    <tr style=\"text-align: right;\">\n",
              "      <th></th>\n",
              "      <th>Area</th>\n",
              "      <th>Perimeter</th>\n",
              "      <th>Major_Axis_Length</th>\n",
              "      <th>Minor_Axis_Length</th>\n",
              "      <th>Eccentricity</th>\n",
              "      <th>Convex_Area</th>\n",
              "      <th>Extent</th>\n",
              "      <th>euclidean_meter</th>\n",
              "      <th>Calss</th>\n",
              "    </tr>\n",
              "  </thead>\n",
              "  <tbody>\n",
              "    <tr>\n",
              "      <th>810</th>\n",
              "      <td>1.141370</td>\n",
              "      <td>0.867313</td>\n",
              "      <td>0.709369</td>\n",
              "      <td>1.268216</td>\n",
              "      <td>-0.080435</td>\n",
              "      <td>1.089777</td>\n",
              "      <td>-0.201025</td>\n",
              "      <td>3.210797</td>\n",
              "      <td>Cammeo</td>\n",
              "    </tr>\n",
              "    <tr>\n",
              "      <th>469</th>\n",
              "      <td>1.141947</td>\n",
              "      <td>1.607233</td>\n",
              "      <td>1.817121</td>\n",
              "      <td>-0.119034</td>\n",
              "      <td>1.663373</td>\n",
              "      <td>1.151680</td>\n",
              "      <td>-0.327065</td>\n",
              "      <td>3.210799</td>\n",
              "      <td>Cammeo</td>\n",
              "    </tr>\n",
              "    <tr>\n",
              "      <th>114</th>\n",
              "      <td>1.139061</td>\n",
              "      <td>1.426039</td>\n",
              "      <td>1.307115</td>\n",
              "      <td>0.649180</td>\n",
              "      <td>0.868385</td>\n",
              "      <td>1.171376</td>\n",
              "      <td>-0.419169</td>\n",
              "      <td>3.210799</td>\n",
              "      <td>Cammeo</td>\n",
              "    </tr>\n",
              "    <tr>\n",
              "      <th>1425</th>\n",
              "      <td>1.138484</td>\n",
              "      <td>1.322716</td>\n",
              "      <td>1.233066</td>\n",
              "      <td>0.701241</td>\n",
              "      <td>0.776764</td>\n",
              "      <td>1.219211</td>\n",
              "      <td>-0.976137</td>\n",
              "      <td>3.210801</td>\n",
              "      <td>Cammeo</td>\n",
              "    </tr>\n",
              "    <tr>\n",
              "      <th>239</th>\n",
              "      <td>1.145411</td>\n",
              "      <td>0.879505</td>\n",
              "      <td>0.732284</td>\n",
              "      <td>1.245217</td>\n",
              "      <td>-0.040717</td>\n",
              "      <td>1.086400</td>\n",
              "      <td>-0.890533</td>\n",
              "      <td>3.210822</td>\n",
              "      <td>Cammeo</td>\n",
              "    </tr>\n",
              "    <tr>\n",
              "      <th>951</th>\n",
              "      <td>1.145411</td>\n",
              "      <td>1.266868</td>\n",
              "      <td>1.359857</td>\n",
              "      <td>0.425422</td>\n",
              "      <td>1.044282</td>\n",
              "      <td>1.174190</td>\n",
              "      <td>1.372245</td>\n",
              "      <td>3.210822</td>\n",
              "      <td>Cammeo</td>\n",
              "    </tr>\n",
              "    <tr>\n",
              "      <th>2</th>\n",
              "      <td>1.135020</td>\n",
              "      <td>1.317041</td>\n",
              "      <td>1.451718</td>\n",
              "      <td>0.253854</td>\n",
              "      <td>1.212797</td>\n",
              "      <td>1.126356</td>\n",
              "      <td>0.405558</td>\n",
              "      <td>3.210830</td>\n",
              "      <td>Cammeo</td>\n",
              "    </tr>\n",
              "    <tr>\n",
              "      <th>758</th>\n",
              "      <td>1.135020</td>\n",
              "      <td>1.089635</td>\n",
              "      <td>1.109536</td>\n",
              "      <td>0.709566</td>\n",
              "      <td>0.669165</td>\n",
              "      <td>1.094842</td>\n",
              "      <td>0.625546</td>\n",
              "      <td>3.210830</td>\n",
              "      <td>Cammeo</td>\n",
              "    </tr>\n",
              "    <tr>\n",
              "      <th>709</th>\n",
              "      <td>1.146565</td>\n",
              "      <td>1.232231</td>\n",
              "      <td>1.483097</td>\n",
              "      <td>0.186183</td>\n",
              "      <td>1.274109</td>\n",
              "      <td>1.099907</td>\n",
              "      <td>1.836093</td>\n",
              "      <td>3.210836</td>\n",
              "      <td>Cammeo</td>\n",
              "    </tr>\n",
              "    <tr>\n",
              "      <th>618</th>\n",
              "      <td>1.134443</td>\n",
              "      <td>1.147701</td>\n",
              "      <td>1.146466</td>\n",
              "      <td>0.688008</td>\n",
              "      <td>0.713776</td>\n",
              "      <td>1.139862</td>\n",
              "      <td>-0.237305</td>\n",
              "      <td>3.210837</td>\n",
              "      <td>Cammeo</td>\n",
              "    </tr>\n",
              "    <tr>\n",
              "      <th>126</th>\n",
              "      <td>1.147142</td>\n",
              "      <td>1.052778</td>\n",
              "      <td>0.651664</td>\n",
              "      <td>1.477659</td>\n",
              "      <td>-0.293310</td>\n",
              "      <td>1.254101</td>\n",
              "      <td>-0.790066</td>\n",
              "      <td>3.210844</td>\n",
              "      <td>Cammeo</td>\n",
              "    </tr>\n",
              "    <tr>\n",
              "      <th>1</th>\n",
              "      <td>1.147720</td>\n",
              "      <td>1.125705</td>\n",
              "      <td>0.988261</td>\n",
              "      <td>0.945444</td>\n",
              "      <td>0.409964</td>\n",
              "      <td>1.192761</td>\n",
              "      <td>-0.602000</td>\n",
              "      <td>3.210853</td>\n",
              "      <td>Cammeo</td>\n",
              "    </tr>\n",
              "    <tr>\n",
              "      <th>1596</th>\n",
              "      <td>1.148874</td>\n",
              "      <td>0.897259</td>\n",
              "      <td>0.751364</td>\n",
              "      <td>1.203183</td>\n",
              "      <td>0.008357</td>\n",
              "      <td>1.091465</td>\n",
              "      <td>-0.176554</td>\n",
              "      <td>3.210872</td>\n",
              "      <td>Cammeo</td>\n",
              "    </tr>\n",
              "    <tr>\n",
              "      <th>2431</th>\n",
              "      <td>1.148874</td>\n",
              "      <td>0.642688</td>\n",
              "      <td>0.045299</td>\n",
              "      <td>2.388214</td>\n",
              "      <td>-1.792709</td>\n",
              "      <td>1.179255</td>\n",
              "      <td>-0.160934</td>\n",
              "      <td>3.210872</td>\n",
              "      <td>Osmancik</td>\n",
              "    </tr>\n",
              "    <tr>\n",
              "      <th>584</th>\n",
              "      <td>1.130980</td>\n",
              "      <td>1.231388</td>\n",
              "      <td>0.974934</td>\n",
              "      <td>1.067148</td>\n",
              "      <td>0.316496</td>\n",
              "      <td>1.203453</td>\n",
              "      <td>-0.730353</td>\n",
              "      <td>3.210896</td>\n",
              "      <td>Cammeo</td>\n",
              "    </tr>\n",
              "    <tr>\n",
              "      <th>561</th>\n",
              "      <td>1.130402</td>\n",
              "      <td>1.351735</td>\n",
              "      <td>1.373082</td>\n",
              "      <td>0.396110</td>\n",
              "      <td>1.071668</td>\n",
              "      <td>1.150554</td>\n",
              "      <td>-1.041311</td>\n",
              "      <td>3.210909</td>\n",
              "      <td>Cammeo</td>\n",
              "    </tr>\n",
              "    <tr>\n",
              "      <th>11</th>\n",
              "      <td>1.130402</td>\n",
              "      <td>1.189615</td>\n",
              "      <td>0.903101</td>\n",
              "      <td>1.162536</td>\n",
              "      <td>0.184509</td>\n",
              "      <td>1.191636</td>\n",
              "      <td>-1.187481</td>\n",
              "      <td>3.210909</td>\n",
              "      <td>Cammeo</td>\n",
              "    </tr>\n",
              "  </tbody>\n",
              "</table>\n",
              "</div>\n",
              "      <button class=\"colab-df-convert\" onclick=\"convertToInteractive('df-4c9b5b80-1b8e-428d-9a73-333b60b0a87f')\"\n",
              "              title=\"Convert this dataframe to an interactive table.\"\n",
              "              style=\"display:none;\">\n",
              "        \n",
              "  <svg xmlns=\"http://www.w3.org/2000/svg\" height=\"24px\"viewBox=\"0 0 24 24\"\n",
              "       width=\"24px\">\n",
              "    <path d=\"M0 0h24v24H0V0z\" fill=\"none\"/>\n",
              "    <path d=\"M18.56 5.44l.94 2.06.94-2.06 2.06-.94-2.06-.94-.94-2.06-.94 2.06-2.06.94zm-11 1L8.5 8.5l.94-2.06 2.06-.94-2.06-.94L8.5 2.5l-.94 2.06-2.06.94zm10 10l.94 2.06.94-2.06 2.06-.94-2.06-.94-.94-2.06-.94 2.06-2.06.94z\"/><path d=\"M17.41 7.96l-1.37-1.37c-.4-.4-.92-.59-1.43-.59-.52 0-1.04.2-1.43.59L10.3 9.45l-7.72 7.72c-.78.78-.78 2.05 0 2.83L4 21.41c.39.39.9.59 1.41.59.51 0 1.02-.2 1.41-.59l7.78-7.78 2.81-2.81c.8-.78.8-2.07 0-2.86zM5.41 20L4 18.59l7.72-7.72 1.47 1.35L5.41 20z\"/>\n",
              "  </svg>\n",
              "      </button>\n",
              "      \n",
              "  <style>\n",
              "    .colab-df-container {\n",
              "      display:flex;\n",
              "      flex-wrap:wrap;\n",
              "      gap: 12px;\n",
              "    }\n",
              "\n",
              "    .colab-df-convert {\n",
              "      background-color: #E8F0FE;\n",
              "      border: none;\n",
              "      border-radius: 50%;\n",
              "      cursor: pointer;\n",
              "      display: none;\n",
              "      fill: #1967D2;\n",
              "      height: 32px;\n",
              "      padding: 0 0 0 0;\n",
              "      width: 32px;\n",
              "    }\n",
              "\n",
              "    .colab-df-convert:hover {\n",
              "      background-color: #E2EBFA;\n",
              "      box-shadow: 0px 1px 2px rgba(60, 64, 67, 0.3), 0px 1px 3px 1px rgba(60, 64, 67, 0.15);\n",
              "      fill: #174EA6;\n",
              "    }\n",
              "\n",
              "    [theme=dark] .colab-df-convert {\n",
              "      background-color: #3B4455;\n",
              "      fill: #D2E3FC;\n",
              "    }\n",
              "\n",
              "    [theme=dark] .colab-df-convert:hover {\n",
              "      background-color: #434B5C;\n",
              "      box-shadow: 0px 1px 3px 1px rgba(0, 0, 0, 0.15);\n",
              "      filter: drop-shadow(0px 1px 2px rgba(0, 0, 0, 0.3));\n",
              "      fill: #FFFFFF;\n",
              "    }\n",
              "  </style>\n",
              "\n",
              "      <script>\n",
              "        const buttonEl =\n",
              "          document.querySelector('#df-4c9b5b80-1b8e-428d-9a73-333b60b0a87f button.colab-df-convert');\n",
              "        buttonEl.style.display =\n",
              "          google.colab.kernel.accessAllowed ? 'block' : 'none';\n",
              "\n",
              "        async function convertToInteractive(key) {\n",
              "          const element = document.querySelector('#df-4c9b5b80-1b8e-428d-9a73-333b60b0a87f');\n",
              "          const dataTable =\n",
              "            await google.colab.kernel.invokeFunction('convertToInteractive',\n",
              "                                                     [key], {});\n",
              "          if (!dataTable) return;\n",
              "\n",
              "          const docLinkHtml = 'Like what you see? Visit the ' +\n",
              "            '<a target=\"_blank\" href=https://colab.research.google.com/notebooks/data_table.ipynb>data table notebook</a>'\n",
              "            + ' to learn more about interactive tables.';\n",
              "          element.innerHTML = '';\n",
              "          dataTable['output_type'] = 'display_data';\n",
              "          await google.colab.output.renderOutput(dataTable, element);\n",
              "          const docLink = document.createElement('div');\n",
              "          docLink.innerHTML = docLinkHtml;\n",
              "          element.appendChild(docLink);\n",
              "        }\n",
              "      </script>\n",
              "    </div>\n",
              "  </div>\n",
              "  "
            ]
          },
          "metadata": {},
          "execution_count": 27
        }
      ]
    }
  ],
  "metadata": {
    "kernelspec": {
      "display_name": "Python 3 (ipykernel)",
      "language": "python",
      "name": "python3"
    },
    "language_info": {
      "codemirror_mode": {
        "name": "ipython",
        "version": 3
      },
      "file_extension": ".py",
      "mimetype": "text/x-python",
      "name": "python",
      "nbconvert_exporter": "python",
      "pygments_lexer": "ipython3",
      "version": "3.10.5"
    },
    "colab": {
      "provenance": []
    }
  },
  "nbformat": 4,
  "nbformat_minor": 5
}